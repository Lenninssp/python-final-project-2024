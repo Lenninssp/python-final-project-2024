{
 "cells": [
  {
   "cell_type": "code",
   "execution_count": 3,
   "metadata": {},
   "outputs": [],
   "source": [
    "#Thanks to the versatility and amount of libraries that are included in python is a perfect language to be used in the backend, but in the frontend \n",
    "#lacks a lot of the important features that frameworks like react include out of the box\n",
    "\n",
    "#so my plan is to create my backend in python using flask and jupyter notebooks or normal python code and using it as an API that\n",
    "#my react frontend will access using HTTP requests\n",
    "\n"
   ]
  },
  {
   "cell_type": "code",
   "execution_count": 20,
   "metadata": {},
   "outputs": [],
   "source": [
    "# Cell 1: Data Fetching\n",
    "# This cell will fetch data from X\n",
    "# Here i´ll fetach the pokemon data from the API"
   ]
  },
  {
   "cell_type": "code",
   "execution_count": 21,
   "metadata": {},
   "outputs": [],
   "source": [
    "# Cell 2: Data Processing\n",
    "# This cell will process the data we got from X\n",
    "# here i will do all the logic for the game of life functionality to send it back to the frontend"
   ]
  },
  {
   "cell_type": "code",
   "execution_count": 17,
   "metadata": {},
   "outputs": [],
   "source": [
    "# Example of mock data for a survey system\n",
    "mock_survey = {\n",
    "\"questions\": [\n",
    "{\"id\": 1, \"text\": \"What is your favorite color?\"},\n",
    "{\"id\": 2, \"text\": \"How old are you?\"}\n",
    "],\n",
    "\"responses\": [\n",
    "{\"user\": \"Alice\", \"answers\": [\"Blue\", \"25\"]},\n",
    "{\"user\": \"Bob\", \"answers\": [\"Red\", \"30\"]}\n",
    "],\n",
    "}"
   ]
  },
  {
   "cell_type": "code",
   "execution_count": 23,
   "metadata": {},
   "outputs": [
    {
     "data": {
      "text/plain": [
       "1"
      ]
     },
     "execution_count": 23,
     "metadata": {},
     "output_type": "execute_result"
    }
   ],
   "source": [
    "mock_survey[\"questions\"][0][\"id\"]"
   ]
  }
 ],
 "metadata": {
  "kernelspec": {
   "display_name": "Python 3",
   "language": "python",
   "name": "python3"
  },
  "language_info": {
   "codemirror_mode": {
    "name": "ipython",
    "version": 3
   },
   "file_extension": ".py",
   "mimetype": "text/x-python",
   "name": "python",
   "nbconvert_exporter": "python",
   "pygments_lexer": "ipython3",
   "version": "3.12.4"
  }
 },
 "nbformat": 4,
 "nbformat_minor": 2
}
